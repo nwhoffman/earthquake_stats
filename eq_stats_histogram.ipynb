{
 "cells": [
  {
   "cell_type": "markdown",
   "metadata": {},
   "source": [
    "## Earthquake Statistics: When and How Many\n",
    "\n",
    "Hundreds of earthquakes happen everyday, all over the Earth. The majority of these events are not felt by people and rarely cause any damage. But, the shaking of the ground doesn't go unnoticed. Earthquakes large and small are detected by number of instruments, including global and local arrays of seismographs recording in locations ranging from the tops of mountains to the bottom of the ocean.\n",
    "\n",
    "Understanding when and where earthquakes occur is important for identifying locations where there is an increased risk from damaging earthquakes. Toward that effort, there have been various attempts to predict earthquakes, with limited success. We know that there are certain regions where damaging earthquakes occur more frequently, namely plate boundaries and especially convergent margins. While we might have a good idea of \"where\", it's a lot more complicated to determine \"when\".\n",
    "\n",
    "Even if there aren't any obvious patterns when looking at the global occurrence of larger earthquakes, it is still interesting to explore the general statistics -- how many events occur each day, what are the year-to-year variations, are there any anomalous months or days, etc. We won't know whats in the data until we look. Fortunately, there's an abundance of earthquake data available from a variety of sources.\n",
    "\n",
    "### Earthquake data\n",
    "\n",
    "With global coverage using relatively sensitive instruments, it is possible to detect all events greater than about a magnitude 6 worldwide (more on [earthquake magnitude scales](https://earthquake.usgs.gov/learn/topics/measure.php)). Smaller events can be recorded by local networks and stations close to the event, but there are many small earthquakes that are too remote to be detected. For this analysis, I selected a lower magnitude limit of magnitude 6 so that my data set would have a complete record of all earthquakes at M6 and above.\n",
    "\n",
    "The vast majority of the bigger earthquakes are now detected by the [The Global Seismographic Network (GSN)](https://www.iris.edu/hq/programs/gsn) which was formed in 1986. Prior to that, there were stations recording for many years as part of different networks or individually. \n",
    "\n",
    "Using data from 1985 to the end of 2020, let's take a look at all of the earthquakes greater than M6. The data is from the [USGS earthquake catalog](https://earthquake.usgs.gov/earthquakes/search/) with search parameters of M6 and greater worldwide, for the years 1985 to 2020."
   ]
  },
  {
   "cell_type": "code",
   "execution_count": 1,
   "metadata": {},
   "outputs": [
    {
     "data": {
      "text/html": [
       "<div>\n",
       "<style scoped>\n",
       "    .dataframe tbody tr th:only-of-type {\n",
       "        vertical-align: middle;\n",
       "    }\n",
       "\n",
       "    .dataframe tbody tr th {\n",
       "        vertical-align: top;\n",
       "    }\n",
       "\n",
       "    .dataframe thead th {\n",
       "        text-align: right;\n",
       "    }\n",
       "</style>\n",
       "<table border=\"1\" class=\"dataframe\">\n",
       "  <thead>\n",
       "    <tr style=\"text-align: right;\">\n",
       "      <th></th>\n",
       "      <th>time</th>\n",
       "      <th>mag</th>\n",
       "      <th>magType</th>\n",
       "      <th>place</th>\n",
       "    </tr>\n",
       "  </thead>\n",
       "  <tbody>\n",
       "    <tr>\n",
       "      <th>0</th>\n",
       "      <td>2020-12-29T11:19:54.762Z</td>\n",
       "      <td>6.4</td>\n",
       "      <td>mww</td>\n",
       "      <td>2 km WSW of Petrinja, Croatia</td>\n",
       "    </tr>\n",
       "    <tr>\n",
       "      <th>1</th>\n",
       "      <td>2020-12-27T21:39:14.770Z</td>\n",
       "      <td>6.7</td>\n",
       "      <td>mww</td>\n",
       "      <td>146 km WNW of Corral, Chile</td>\n",
       "    </tr>\n",
       "    <tr>\n",
       "      <th>2</th>\n",
       "      <td>2020-12-24T23:43:41.964Z</td>\n",
       "      <td>6.3</td>\n",
       "      <td>mww</td>\n",
       "      <td>2 km ESE of Calatagan, Philippines</td>\n",
       "    </tr>\n",
       "    <tr>\n",
       "      <th>3</th>\n",
       "      <td>2020-12-23T18:11:47.762Z</td>\n",
       "      <td>6.1</td>\n",
       "      <td>mww</td>\n",
       "      <td>90 km SW of Angaur State, Palau</td>\n",
       "    </tr>\n",
       "    <tr>\n",
       "      <th>4</th>\n",
       "      <td>2020-12-20T17:23:22.668Z</td>\n",
       "      <td>6.3</td>\n",
       "      <td>mww</td>\n",
       "      <td>100 km ENE of Hachinohe, Japan</td>\n",
       "    </tr>\n",
       "  </tbody>\n",
       "</table>\n",
       "</div>"
      ],
      "text/plain": [
       "                       time  mag magType                               place\n",
       "0  2020-12-29T11:19:54.762Z  6.4     mww       2 km WSW of Petrinja, Croatia\n",
       "1  2020-12-27T21:39:14.770Z  6.7     mww         146 km WNW of Corral, Chile\n",
       "2  2020-12-24T23:43:41.964Z  6.3     mww  2 km ESE of Calatagan, Philippines\n",
       "3  2020-12-23T18:11:47.762Z  6.1     mww     90 km SW of Angaur State, Palau\n",
       "4  2020-12-20T17:23:22.668Z  6.3     mww      100 km ENE of Hachinohe, Japan"
      ]
     },
     "execution_count": 1,
     "metadata": {},
     "output_type": "execute_result"
    }
   ],
   "source": [
    "# Load in the csv file of earthquakes M6 and greater \n",
    "\n",
    "import pandas as pd\n",
    "import numpy as np\n",
    "\n",
    "# columns to keep\n",
    "cols_keep = ['time', 'mag', 'magType', 'place']\n",
    "df = pd.read_csv('/home/nicole/earthquakes/statistics/m6_1985_2020.csv', usecols=cols_keep)\n",
    "\n",
    "df.head()"
   ]
  },
  {
   "cell_type": "markdown",
   "metadata": {},
   "source": [
    "We're only including columns of interest and events which are earthquakes and not explosion or other human-caused events. Let's explore some of the general statistics of these events."
   ]
  },
  {
   "cell_type": "markdown",
   "metadata": {},
   "source": [
    "### General statistics"
   ]
  },
  {
   "cell_type": "code",
   "execution_count": 2,
   "metadata": {},
   "outputs": [
    {
     "name": "stdout",
     "output_type": "stream",
     "text": [
      "Total number of events:  5463\n",
      "Average number per week: 2.92\n",
      "Largest magnitude earthquakes:\n"
     ]
    },
    {
     "data": {
      "text/html": [
       "<div>\n",
       "<style scoped>\n",
       "    .dataframe tbody tr th:only-of-type {\n",
       "        vertical-align: middle;\n",
       "    }\n",
       "\n",
       "    .dataframe tbody tr th {\n",
       "        vertical-align: top;\n",
       "    }\n",
       "\n",
       "    .dataframe thead th {\n",
       "        text-align: right;\n",
       "    }\n",
       "</style>\n",
       "<table border=\"1\" class=\"dataframe\">\n",
       "  <thead>\n",
       "    <tr style=\"text-align: right;\">\n",
       "      <th></th>\n",
       "      <th>mag</th>\n",
       "      <th>time</th>\n",
       "      <th>place</th>\n",
       "    </tr>\n",
       "  </thead>\n",
       "  <tbody>\n",
       "    <tr>\n",
       "      <th>2471</th>\n",
       "      <td>9.1</td>\n",
       "      <td>2004-12-26T00:58:53.450Z</td>\n",
       "      <td>2004 Sumatra - Andaman Islands Earthquake</td>\n",
       "    </tr>\n",
       "    <tr>\n",
       "      <th>1404</th>\n",
       "      <td>9.1</td>\n",
       "      <td>2011-03-11T05:46:24.120Z</td>\n",
       "      <td>2011 Great Tohoku Earthquake, Japan</td>\n",
       "    </tr>\n",
       "    <tr>\n",
       "      <th>1595</th>\n",
       "      <td>8.8</td>\n",
       "      <td>2010-02-27T06:34:11.530Z</td>\n",
       "      <td>offshore Bio-Bio, Chile</td>\n",
       "    </tr>\n",
       "    <tr>\n",
       "      <th>2404</th>\n",
       "      <td>8.6</td>\n",
       "      <td>2005-03-28T16:09:36.530Z</td>\n",
       "      <td>northern Sumatra, Indonesia</td>\n",
       "    </tr>\n",
       "    <tr>\n",
       "      <th>1200</th>\n",
       "      <td>8.6</td>\n",
       "      <td>2012-04-11T08:38:36.720Z</td>\n",
       "      <td>off the west coast of northern Sumatra</td>\n",
       "    </tr>\n",
       "  </tbody>\n",
       "</table>\n",
       "</div>"
      ],
      "text/plain": [
       "      mag                      time                                      place\n",
       "2471  9.1  2004-12-26T00:58:53.450Z  2004 Sumatra - Andaman Islands Earthquake\n",
       "1404  9.1  2011-03-11T05:46:24.120Z        2011 Great Tohoku Earthquake, Japan\n",
       "1595  8.8  2010-02-27T06:34:11.530Z                    offshore Bio-Bio, Chile\n",
       "2404  8.6  2005-03-28T16:09:36.530Z                northern Sumatra, Indonesia\n",
       "1200  8.6  2012-04-11T08:38:36.720Z     off the west coast of northern Sumatra"
      ]
     },
     "execution_count": 2,
     "metadata": {},
     "output_type": "execute_result"
    }
   ],
   "source": [
    "# Total number of earthquakes\n",
    "print('Total number of events: ', len(df))\n",
    "print('Average number per week:', round(len(df) / (52*(2020-1985+1)), 2))\n",
    "\n",
    "# Largest magnitude\n",
    "print('Largest magnitude earthquakes:')\n",
    "df[['mag','time','place']].sort_values('mag',ascending=False).head()"
   ]
  },
  {
   "cell_type": "markdown",
   "metadata": {},
   "source": [
    "Since 1985, there has been an average of almost three earthquakes each week globally with a magnitude M6 or greater. The largest earthquakes have all been relatively recent, between 2004 and 2012. As expected, these events occur at subducting plate boundaries and the five largest events are on the [Ring of Fire](https://en.wikipedia.org/wiki/Ring_of_Fire).\n",
    "\n",
    "Separating the earthquakes into various time intervals, we can see if there are any patterns or other interesting features when looking at when earthquakes happen."
   ]
  },
  {
   "cell_type": "markdown",
   "metadata": {},
   "source": [
    "### Earthquakes: year, month, and day"
   ]
  },
  {
   "cell_type": "code",
   "execution_count": 3,
   "metadata": {},
   "outputs": [
    {
     "data": {
      "text/html": [
       "<div>\n",
       "<style scoped>\n",
       "    .dataframe tbody tr th:only-of-type {\n",
       "        vertical-align: middle;\n",
       "    }\n",
       "\n",
       "    .dataframe tbody tr th {\n",
       "        vertical-align: top;\n",
       "    }\n",
       "\n",
       "    .dataframe thead th {\n",
       "        text-align: right;\n",
       "    }\n",
       "</style>\n",
       "<table border=\"1\" class=\"dataframe\">\n",
       "  <thead>\n",
       "    <tr style=\"text-align: right;\">\n",
       "      <th></th>\n",
       "      <th>time</th>\n",
       "      <th>mag</th>\n",
       "      <th>magType</th>\n",
       "      <th>place</th>\n",
       "      <th>year</th>\n",
       "      <th>month</th>\n",
       "      <th>day</th>\n",
       "      <th>dofy</th>\n",
       "    </tr>\n",
       "  </thead>\n",
       "  <tbody>\n",
       "    <tr>\n",
       "      <th>0</th>\n",
       "      <td>2020-12-29 11:19:54.762000+00:00</td>\n",
       "      <td>6.4</td>\n",
       "      <td>mww</td>\n",
       "      <td>2 km WSW of Petrinja, Croatia</td>\n",
       "      <td>2020</td>\n",
       "      <td>12</td>\n",
       "      <td>29</td>\n",
       "      <td>364</td>\n",
       "    </tr>\n",
       "    <tr>\n",
       "      <th>1</th>\n",
       "      <td>2020-12-27 21:39:14.770000+00:00</td>\n",
       "      <td>6.7</td>\n",
       "      <td>mww</td>\n",
       "      <td>146 km WNW of Corral, Chile</td>\n",
       "      <td>2020</td>\n",
       "      <td>12</td>\n",
       "      <td>27</td>\n",
       "      <td>362</td>\n",
       "    </tr>\n",
       "    <tr>\n",
       "      <th>2</th>\n",
       "      <td>2020-12-24 23:43:41.964000+00:00</td>\n",
       "      <td>6.3</td>\n",
       "      <td>mww</td>\n",
       "      <td>2 km ESE of Calatagan, Philippines</td>\n",
       "      <td>2020</td>\n",
       "      <td>12</td>\n",
       "      <td>24</td>\n",
       "      <td>359</td>\n",
       "    </tr>\n",
       "    <tr>\n",
       "      <th>3</th>\n",
       "      <td>2020-12-23 18:11:47.762000+00:00</td>\n",
       "      <td>6.1</td>\n",
       "      <td>mww</td>\n",
       "      <td>90 km SW of Angaur State, Palau</td>\n",
       "      <td>2020</td>\n",
       "      <td>12</td>\n",
       "      <td>23</td>\n",
       "      <td>358</td>\n",
       "    </tr>\n",
       "    <tr>\n",
       "      <th>4</th>\n",
       "      <td>2020-12-20 17:23:22.668000+00:00</td>\n",
       "      <td>6.3</td>\n",
       "      <td>mww</td>\n",
       "      <td>100 km ENE of Hachinohe, Japan</td>\n",
       "      <td>2020</td>\n",
       "      <td>12</td>\n",
       "      <td>20</td>\n",
       "      <td>355</td>\n",
       "    </tr>\n",
       "  </tbody>\n",
       "</table>\n",
       "</div>"
      ],
      "text/plain": [
       "                              time  mag magType  \\\n",
       "0 2020-12-29 11:19:54.762000+00:00  6.4     mww   \n",
       "1 2020-12-27 21:39:14.770000+00:00  6.7     mww   \n",
       "2 2020-12-24 23:43:41.964000+00:00  6.3     mww   \n",
       "3 2020-12-23 18:11:47.762000+00:00  6.1     mww   \n",
       "4 2020-12-20 17:23:22.668000+00:00  6.3     mww   \n",
       "\n",
       "                                place  year  month  day  dofy  \n",
       "0       2 km WSW of Petrinja, Croatia  2020     12   29   364  \n",
       "1         146 km WNW of Corral, Chile  2020     12   27   362  \n",
       "2  2 km ESE of Calatagan, Philippines  2020     12   24   359  \n",
       "3     90 km SW of Angaur State, Palau  2020     12   23   358  \n",
       "4      100 km ENE of Hachinohe, Japan  2020     12   20   355  "
      ]
     },
     "execution_count": 3,
     "metadata": {},
     "output_type": "execute_result"
    }
   ],
   "source": [
    "# Count the number of earthquakes over various time intervals\n",
    "\n",
    "df['time'] = pd.to_datetime(df['time'])\n",
    "\n",
    "# Add additional columns for day-of-year, year, month, and day\n",
    "df['year'] = df['time'].dt.year\n",
    "df['month'] = df['time'].dt.month\n",
    "df['day'] = df['time'].dt.day\n",
    "df['dofy'] = df['time'].apply(\n",
    "    lambda x: x.strftime(\"%j\")).astype(str).astype(int)\n",
    "\n",
    "df.head()"
   ]
  },
  {
   "cell_type": "code",
   "execution_count": 4,
   "metadata": {},
   "outputs": [],
   "source": [
    "# Find the number of earthquakes for each day, year, month, and day of the month. \n",
    "dofy_tot = df['dofy'].value_counts(sort=True)\n",
    "dofy_tot.sort_index(axis=0, inplace=True)\n",
    "\n",
    "year_tot = df['year'].value_counts(sort=True)\n",
    "month_tot = df['month'].value_counts(sort=True)\n",
    "day_tot = df['day'].value_counts(sort=True)\n",
    "\n",
    "# Find the average number of events per year, day of year, and month\n",
    "year_ave = year_tot.mean()\n",
    "dofy_ave = dofy_tot.mean()\n",
    "month_ave = month_tot.mean()"
   ]
  },
  {
   "cell_type": "markdown",
   "metadata": {},
   "source": [
    "### Plotting time!"
   ]
  },
  {
   "cell_type": "code",
   "execution_count": 5,
   "metadata": {},
   "outputs": [],
   "source": [
    "# Import stuff for plotting\n",
    "from matplotlib import pyplot as plt\n",
    "%matplotlib inline\n",
    "\n",
    "# Seaborn for plotting and styling\n",
    "import seaborn as sns\n",
    "\n",
    "# Settings for all figures\n",
    "plt.rcParams['axes.labelsize'] = 14\n",
    "plt.rcParams['axes.titlesize'] = 16\n",
    "plt.rcParams['font.size'] = 14\n",
    "plt.rcParams['legend.fontsize'] = 12"
   ]
  },
  {
   "cell_type": "code",
   "execution_count": 6,
   "metadata": {},
   "outputs": [
    {
     "data": {
      "image/png": "[encoded data removed]",
      "text/plain": [
       "<Figure size 864x432 with 1 Axes>"
      ]
     },
     "metadata": {
      "needs_background": "light"
     },
     "output_type": "display_data"
    }
   ],
   "source": [
    "# Plot earthquake occurrence as a function of year\n",
    "plt.figure(figsize=(12,6))\n",
    "\n",
    "sns.barplot(year_tot.index, year_tot.values, color='orange', alpha=0.6)\n",
    "plt.axhline(y=year_ave, color='k', linestyle='-.', \n",
    "            alpha=0.5, label='average')\n",
    "plt.xlabel('Year'), plt.ylabel('Number of earthquakes')\n",
    "plt.xticks(rotation='vertical')\n",
    "plt.legend()\n",
    "plt.show()"
   ]
  },
  {
   "cell_type": "markdown",
   "metadata": {},
   "source": [
    "With the exception of a few of the years (1998, 2017, etc), the number of earthquakes each year is pretty close to the average.\n",
    "\n",
    "With a few exceptions, the number of earthquakes on any given day of the year is consistent. The dates that stand out are probably when some of the largest events occurred, since the biggest earthquakes are almost always followed by numerous aftershocks, many of which would be larger than M6. To find those events, we'll look at the day of the year with the greatest number of events."
   ]
  },
  {
   "cell_type": "code",
   "execution_count": 7,
   "metadata": {},
   "outputs": [
    {
     "data": {
      "text/html": [
       "<div>\n",
       "<style scoped>\n",
       "    .dataframe tbody tr th:only-of-type {\n",
       "        vertical-align: middle;\n",
       "    }\n",
       "\n",
       "    .dataframe tbody tr th {\n",
       "        vertical-align: top;\n",
       "    }\n",
       "\n",
       "    .dataframe thead th {\n",
       "        text-align: right;\n",
       "    }\n",
       "</style>\n",
       "<table border=\"1\" class=\"dataframe\">\n",
       "  <thead>\n",
       "    <tr style=\"text-align: right;\">\n",
       "      <th></th>\n",
       "      <th>place</th>\n",
       "      <th>time</th>\n",
       "      <th>dofy</th>\n",
       "      <th>year</th>\n",
       "      <th>mag</th>\n",
       "    </tr>\n",
       "  </thead>\n",
       "  <tbody>\n",
       "    <tr>\n",
       "      <th>1404</th>\n",
       "      <td>2011 Great Tohoku Earthquake, Japan</td>\n",
       "      <td>2011-03-11 05:46:24.120000+00:00</td>\n",
       "      <td>70</td>\n",
       "      <td>2011</td>\n",
       "      <td>9.1</td>\n",
       "    </tr>\n",
       "    <tr>\n",
       "      <th>1393</th>\n",
       "      <td>near the east coast of Honshu, Japan</td>\n",
       "      <td>2011-03-11 06:15:40.280000+00:00</td>\n",
       "      <td>70</td>\n",
       "      <td>2011</td>\n",
       "      <td>7.9</td>\n",
       "    </tr>\n",
       "    <tr>\n",
       "      <th>1388</th>\n",
       "      <td>off the east coast of Honshu, Japan</td>\n",
       "      <td>2011-03-11 06:25:50.300000+00:00</td>\n",
       "      <td>70</td>\n",
       "      <td>2011</td>\n",
       "      <td>7.7</td>\n",
       "    </tr>\n",
       "    <tr>\n",
       "      <th>1569</th>\n",
       "      <td>Libertador General Bernardo O'Higgins, Chile</td>\n",
       "      <td>2010-03-11 14:55:27.510000+00:00</td>\n",
       "      <td>70</td>\n",
       "      <td>2010</td>\n",
       "      <td>7.0</td>\n",
       "    </tr>\n",
       "    <tr>\n",
       "      <th>4852</th>\n",
       "      <td>Tonga</td>\n",
       "      <td>1989-03-11 05:05:00.630000+00:00</td>\n",
       "      <td>70</td>\n",
       "      <td>1989</td>\n",
       "      <td>6.9</td>\n",
       "    </tr>\n",
       "  </tbody>\n",
       "</table>\n",
       "</div>"
      ],
      "text/plain": [
       "                                             place  \\\n",
       "1404           2011 Great Tohoku Earthquake, Japan   \n",
       "1393          near the east coast of Honshu, Japan   \n",
       "1388           off the east coast of Honshu, Japan   \n",
       "1569  Libertador General Bernardo O'Higgins, Chile   \n",
       "4852                                         Tonga   \n",
       "\n",
       "                                 time  dofy  year  mag  \n",
       "1404 2011-03-11 05:46:24.120000+00:00    70  2011  9.1  \n",
       "1393 2011-03-11 06:15:40.280000+00:00    70  2011  7.9  \n",
       "1388 2011-03-11 06:25:50.300000+00:00    70  2011  7.7  \n",
       "1569 2010-03-11 14:55:27.510000+00:00    70  2010  7.0  \n",
       "4852 1989-03-11 05:05:00.630000+00:00    70  1989  6.9  "
      ]
     },
     "execution_count": 7,
     "metadata": {},
     "output_type": "execute_result"
    }
   ],
   "source": [
    "# Find the day of year with the greatest number of events\n",
    "dofy_max = dofy_tot.sort_values(ascending=False).head(1).index[0]\n",
    "\n",
    "# Print out the events that occur on those days of the year, \n",
    "# sorted by decreasing magnitude\n",
    "df_max = df[df.dofy == dofy_max].sort_values('mag', ascending=False).head()\n",
    "df_max[['place','time','dofy','year','mag']]"
   ]
  },
  {
   "cell_type": "markdown",
   "metadata": {},
   "source": [
    "The [Tohoku-oki megathrust earthquake](https://earthquake.usgs.gov/earthquakes/eventpage/official20110311054624120_30#executive) occurred on March 11, 2011. With a magnitude of 9.1, there were hundreds of aftershocks with many of them above a magnitude 6.\n",
    "\n",
    "What about the number of earthquakes for a given month? Grouping the events by month, maybe we can demonstrate that there isn't an \"earthquake month\" or a particular season in which earthquakes occur. "
   ]
  },
  {
   "cell_type": "code",
   "execution_count": 8,
   "metadata": {},
   "outputs": [
    {
     "data": {
      "image/png": "[encoded data removed]",
      "text/plain": [
       "<Figure size 720x288 with 1 Axes>"
      ]
     },
     "metadata": {
      "needs_background": "light"
     },
     "output_type": "display_data"
    }
   ],
   "source": [
    "# Plot earthquake occurrence as a function of the month \n",
    "# (normalizing by the number of days in the month)\n",
    "\n",
    "# Array of month lengths\n",
    "month_length = np.array([31,28,31,30,31,30,31,31,30,31,30,31])\n",
    "# Sort by month index\n",
    "month_sort = month_tot.sort_index()\n",
    "# Normalize by the length of the month\n",
    "month_norm = month_sort.values / (month_length*(2017-1983+1))\n",
    "\n",
    "# Plot (including daily average and the deviation)\n",
    "plt.figure(figsize=(10,4))\n",
    "\n",
    "ax = sns.barplot(month_sort.index, month_norm, alpha=0.5, color='orange')\n",
    "ax.set_ylim([0, 0.7])\n",
    "plt.axhline(y=np.mean(month_norm), color='k', linestyle='-.', \n",
    "            alpha=0.5, label='mean')\n",
    "plt.axhspan(np.mean(month_norm)-np.std(month_norm), \n",
    "            np.mean(month_norm)+np.std(month_norm), \n",
    "            color='k', alpha=0.2, label='std')\n",
    "plt.ylabel('Number of earthquakes per day'), plt.xlabel('Month')\n",
    "plt.title('Worldwide Earthquakes M6 and Greater (1985-2020)')\n",
    "plt.legend()\n",
    "plt.show()"
   ]
  },
  {
   "cell_type": "markdown",
   "metadata": {},
   "source": [
    "Well, there is maybe a little bit of a trend here, with a \"peak\" in April and \"troughs\" in January and July. It would be helpful to look at the number of events each month for individual years; a heatmap will be a great way to visualize this. Time to group some data!"
   ]
  },
  {
   "cell_type": "markdown",
   "metadata": {},
   "source": [
    "### Grouping events for each year"
   ]
  },
  {
   "cell_type": "code",
   "execution_count": 9,
   "metadata": {},
   "outputs": [
    {
     "data": {
      "text/html": [
       "<div>\n",
       "<style scoped>\n",
       "    .dataframe tbody tr th:only-of-type {\n",
       "        vertical-align: middle;\n",
       "    }\n",
       "\n",
       "    .dataframe tbody tr th {\n",
       "        vertical-align: top;\n",
       "    }\n",
       "\n",
       "    .dataframe thead th {\n",
       "        text-align: right;\n",
       "    }\n",
       "</style>\n",
       "<table border=\"1\" class=\"dataframe\">\n",
       "  <thead>\n",
       "    <tr style=\"text-align: right;\">\n",
       "      <th>month</th>\n",
       "      <th>1</th>\n",
       "      <th>2</th>\n",
       "      <th>3</th>\n",
       "      <th>4</th>\n",
       "      <th>5</th>\n",
       "      <th>6</th>\n",
       "      <th>7</th>\n",
       "      <th>8</th>\n",
       "      <th>9</th>\n",
       "      <th>10</th>\n",
       "      <th>11</th>\n",
       "      <th>12</th>\n",
       "    </tr>\n",
       "    <tr>\n",
       "      <th>year</th>\n",
       "      <th></th>\n",
       "      <th></th>\n",
       "      <th></th>\n",
       "      <th></th>\n",
       "      <th></th>\n",
       "      <th></th>\n",
       "      <th></th>\n",
       "      <th></th>\n",
       "      <th></th>\n",
       "      <th></th>\n",
       "      <th></th>\n",
       "      <th></th>\n",
       "    </tr>\n",
       "  </thead>\n",
       "  <tbody>\n",
       "    <tr>\n",
       "      <th>2016</th>\n",
       "      <td>0.42</td>\n",
       "      <td>0.36</td>\n",
       "      <td>0.16</td>\n",
       "      <td>0.77</td>\n",
       "      <td>0.23</td>\n",
       "      <td>0.50</td>\n",
       "      <td>0.23</td>\n",
       "      <td>0.42</td>\n",
       "      <td>0.43</td>\n",
       "      <td>0.26</td>\n",
       "      <td>0.43</td>\n",
       "      <td>0.65</td>\n",
       "    </tr>\n",
       "    <tr>\n",
       "      <th>2017</th>\n",
       "      <td>0.26</td>\n",
       "      <td>0.18</td>\n",
       "      <td>0.19</td>\n",
       "      <td>0.23</td>\n",
       "      <td>0.35</td>\n",
       "      <td>0.33</td>\n",
       "      <td>0.32</td>\n",
       "      <td>0.26</td>\n",
       "      <td>0.30</td>\n",
       "      <td>0.32</td>\n",
       "      <td>0.53</td>\n",
       "      <td>0.32</td>\n",
       "    </tr>\n",
       "    <tr>\n",
       "      <th>2018</th>\n",
       "      <td>0.35</td>\n",
       "      <td>0.39</td>\n",
       "      <td>0.26</td>\n",
       "      <td>0.23</td>\n",
       "      <td>0.19</td>\n",
       "      <td>0.03</td>\n",
       "      <td>0.32</td>\n",
       "      <td>0.77</td>\n",
       "      <td>0.40</td>\n",
       "      <td>0.55</td>\n",
       "      <td>0.47</td>\n",
       "      <td>0.45</td>\n",
       "    </tr>\n",
       "    <tr>\n",
       "      <th>2019</th>\n",
       "      <td>0.39</td>\n",
       "      <td>0.21</td>\n",
       "      <td>0.39</td>\n",
       "      <td>0.53</td>\n",
       "      <td>0.42</td>\n",
       "      <td>0.60</td>\n",
       "      <td>0.45</td>\n",
       "      <td>0.29</td>\n",
       "      <td>0.30</td>\n",
       "      <td>0.19</td>\n",
       "      <td>0.57</td>\n",
       "      <td>0.42</td>\n",
       "    </tr>\n",
       "    <tr>\n",
       "      <th>2020</th>\n",
       "      <td>0.52</td>\n",
       "      <td>0.25</td>\n",
       "      <td>0.29</td>\n",
       "      <td>0.23</td>\n",
       "      <td>0.29</td>\n",
       "      <td>0.37</td>\n",
       "      <td>0.35</td>\n",
       "      <td>0.45</td>\n",
       "      <td>0.43</td>\n",
       "      <td>0.19</td>\n",
       "      <td>0.27</td>\n",
       "      <td>0.35</td>\n",
       "    </tr>\n",
       "  </tbody>\n",
       "</table>\n",
       "</div>"
      ],
      "text/plain": [
       "month    1     2     3     4     5     6     7     8     9     10    11    12\n",
       "year                                                                         \n",
       "2016   0.42  0.36  0.16  0.77  0.23  0.50  0.23  0.42  0.43  0.26  0.43  0.65\n",
       "2017   0.26  0.18  0.19  0.23  0.35  0.33  0.32  0.26  0.30  0.32  0.53  0.32\n",
       "2018   0.35  0.39  0.26  0.23  0.19  0.03  0.32  0.77  0.40  0.55  0.47  0.45\n",
       "2019   0.39  0.21  0.39  0.53  0.42  0.60  0.45  0.29  0.30  0.19  0.57  0.42\n",
       "2020   0.52  0.25  0.29  0.23  0.29  0.37  0.35  0.45  0.43  0.19  0.27  0.35"
      ]
     },
     "execution_count": 9,
     "metadata": {},
     "output_type": "execute_result"
    }
   ],
   "source": [
    "# Group the DataFrame: earthquake counts for each year (rows) by month (columns) \n",
    "\n",
    "# Group the entire dataframe by year and month, \n",
    "# find the number of earthquakes in each year and month,\n",
    "# then unstack to remove the hierarchical indexing\n",
    "# (pivot the 'month' level to return a DataFrame with new columns).\n",
    "df_newcol = df.groupby(['year','month'])['day'].size().unstack()\n",
    "\n",
    "# Divide each row by the month length array to return\n",
    "# the number of earthquakes per day for each month \n",
    "df_newcol = df_newcol / month_length \n",
    "df_newcol.round(2).tail()"
   ]
  },
  {
   "cell_type": "markdown",
   "metadata": {},
   "source": [
    "The grouped and unstacked data looks good. The number of earthquakes per day for each month is consistent with previous calculations; the average of each month column should equal the values plotted in the monthly bar graph above. Using the heatmap plot in the Seaborn package, let's see if there actually is an overall trend of more earthquakes in April and fewer in July."
   ]
  },
  {
   "cell_type": "markdown",
   "metadata": {},
   "source": [
    "### Heatmap for events by year and month"
   ]
  },
  {
   "cell_type": "code",
   "execution_count": 10,
   "metadata": {},
   "outputs": [
    {
     "data": {
      "image/png": "[encoded data removed]",
      "text/plain": [
       "<Figure size 864x576 with 2 Axes>"
      ]
     },
     "metadata": {
      "needs_background": "light"
     },
     "output_type": "display_data"
    }
   ],
   "source": [
    "# Plot a heatmap of the unstacked DataFrame created above\n",
    "plt.figure(figsize=(12,8))\n",
    "ax = sns.heatmap(df_newcol, linewidths=.5, cmap=\"bone_r\", yticklabels=2,\n",
    "                 cbar_kws={'label': 'Number of earthquakes per day'})\n",
    "plt.yticks(rotation=0) \n",
    "plt.show()"
   ]
  },
  {
   "cell_type": "markdown",
   "metadata": {},
   "source": [
    "### April showers bring...earthquakes?\n",
    "\n",
    "It seems like there are actually more events in April and fewer in July. In April, especially from 2004 until 2016, there are more events than many of the other months, as shown by the line of darker shading. I don't quite know what is going on here so there is definitely more to be done to see where (on Earth) these events are happening and if there is any physical reason. We are also only looking at about 35 years of data here, so it may be that this pattern wouldn't be present with a larger sample size.\n",
    "\n",
    "There is definitely more to do with this data set and other similar earthquake catalog data. Specifically, I would look at how the magnitudes of the earthquakes break down over individual years and months. It would also be helpful to look at where the earthquakes are occurring, especially by comparing the locations from month to month.\n",
    "\n",
    "The data set used in this analysis is available [here](https://github.com/nwhoffman/earthquake_stats/blob/master/m6_1985_2020.csv) and the Jupyter notebook is [here](https://github.com/nwhoffman/earthquake_stats/eq_stats1.ipynb)."
   ]
  }
 ],
 "metadata": {
  "kernelspec": {
   "display_name": "Python 3",
   "language": "python",
   "name": "python3"
  },
  "language_info": {
   "codemirror_mode": {
    "name": "ipython",
    "version": 3
   },
   "file_extension": ".py",
   "mimetype": "text/x-python",
   "name": "python",
   "nbconvert_exporter": "python",
   "pygments_lexer": "ipython3",
   "version": "3.7.3"
  }
 },
 "nbformat": 4,
 "nbformat_minor": 2
}
